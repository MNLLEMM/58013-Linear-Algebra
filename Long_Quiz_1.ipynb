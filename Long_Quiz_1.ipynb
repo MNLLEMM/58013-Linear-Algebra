{
  "nbformat": 4,
  "nbformat_minor": 0,
  "metadata": {
    "colab": {
      "provenance": []
    },
    "kernelspec": {
      "name": "python3",
      "display_name": "Python 3"
    },
    "language_info": {
      "name": "python"
    }
  },
  "cells": [
    {
      "cell_type": "markdown",
      "source": [
        "Problem 1"
      ],
      "metadata": {
        "id": "B_KJPIjRprNC"
      }
    },
    {
      "cell_type": "code",
      "source": [
        "# Given\n",
        "import numpy as np\n",
        "A = np.array([[1, 2, 3],\n",
        "              [4, 5, 6]])\n",
        "B = np.array([[1, 2],\n",
        "              [3, 4],\n",
        "              [5, 6]])\n",
        "C = np.array([[1, 2, 3],\n",
        "              [4, 5, 6],\n",
        "              [7, 8, 9]])\n",
        "D = np.array([[1, 2],\n",
        "              [3, 4]])"
      ],
      "metadata": {
        "id": "qJa1Y4YnoxON"
      },
      "execution_count": null,
      "outputs": []
    },
    {
      "cell_type": "code",
      "source": [
        "#a.\n",
        "\n",
        "AB = np.dot(A, B)\n",
        "print(\"Answer: \")\n",
        "print(AB)"
      ],
      "metadata": {
        "colab": {
          "base_uri": "https://localhost:8080/"
        },
        "id": "v8oxiRdmo56l",
        "outputId": "085e3beb-0499-4ef9-a87d-4b4e347fa59c"
      },
      "execution_count": 3,
      "outputs": [
        {
          "output_type": "stream",
          "name": "stdout",
          "text": [
            "Answer: \n",
            "[[22 28]\n",
            " [49 64]]\n"
          ]
        }
      ]
    },
    {
      "cell_type": "code",
      "source": [
        "#b.\n",
        "\n",
        "DPD = D + D\n",
        "print(\"\\nAnswer: \")\n",
        "print(DPD)"
      ],
      "metadata": {
        "colab": {
          "base_uri": "https://localhost:8080/"
        },
        "id": "dbU_Yz_epI6W",
        "outputId": "1d5fefb5-fff1-402c-bfb5-9d4bd2f57194"
      },
      "execution_count": 5,
      "outputs": [
        {
          "output_type": "stream",
          "name": "stdout",
          "text": [
            "\n",
            "Answer: \n",
            "[[2 4]\n",
            " [6 8]]\n"
          ]
        }
      ]
    },
    {
      "cell_type": "code",
      "source": [
        "#c.\n",
        "\n",
        "tuk = 2 * C\n",
        "print(\"\\nAnswer: \")\n",
        "print(tuk)"
      ],
      "metadata": {
        "colab": {
          "base_uri": "https://localhost:8080/"
        },
        "id": "dmfXgvpRpbKq",
        "outputId": "65d0048a-5f17-4d46-f0b1-1a01824407e9"
      },
      "execution_count": 6,
      "outputs": [
        {
          "output_type": "stream",
          "name": "stdout",
          "text": [
            "\n",
            "Answer: \n",
            "[[ 2  4  6]\n",
            " [ 8 10 12]\n",
            " [14 16 18]]\n"
          ]
        }
      ]
    },
    {
      "cell_type": "markdown",
      "source": [
        "Problem 2"
      ],
      "metadata": {
        "id": "yJLle9yFpzWH"
      }
    },
    {
      "cell_type": "code",
      "source": [
        "#Cross Product\n",
        "\n",
        "A = np.array([2, 7, 4])\n",
        "B = np.array([3, 9, 8])\n",
        "R = np.cross(A, B)\n",
        "\n",
        "print(\"Answer: \")\n",
        "print(R)"
      ],
      "metadata": {
        "colab": {
          "base_uri": "https://localhost:8080/"
        },
        "id": "odyXEMtgp0Na",
        "outputId": "0c0fae9f-b3d6-4bf6-f06e-6a1554b51d32"
      },
      "execution_count": 9,
      "outputs": [
        {
          "output_type": "stream",
          "name": "stdout",
          "text": [
            "Answer: \n",
            "[20 -4 -3]\n"
          ]
        }
      ]
    }
  ]
}