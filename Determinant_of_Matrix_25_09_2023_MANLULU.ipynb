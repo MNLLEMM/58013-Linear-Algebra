{
  "nbformat": 4,
  "nbformat_minor": 0,
  "metadata": {
    "colab": {
      "provenance": []
    },
    "kernelspec": {
      "name": "python3",
      "display_name": "Python 3"
    },
    "language_info": {
      "name": "python"
    }
  },
  "cells": [
    {
      "cell_type": "code",
      "execution_count": 3,
      "metadata": {
        "colab": {
          "base_uri": "https://localhost:8080/"
        },
        "id": "M323U3ac0uBa",
        "outputId": "7624694f-3c63-430a-d647-8e3a8902dd79"
      },
      "outputs": [
        {
          "output_type": "stream",
          "name": "stdout",
          "text": [
            "[[ 4  7  8]\n",
            " [-9  0  0]\n",
            " [ 2  3  4]]\n"
          ]
        },
        {
          "output_type": "execute_result",
          "data": {
            "text/plain": [
              "36"
            ]
          },
          "metadata": {},
          "execution_count": 3
        }
      ],
      "source": [
        "import numpy as np\n",
        "\n",
        "A = np.array([[4,7,8] , [-9,0,0], [2,3,4]])\n",
        "\n",
        "print(A)\n",
        "\n",
        "round(np.linalg.det(A))"
      ]
    },
    {
      "cell_type": "code",
      "source": [
        "import numpy as np\n",
        "\n",
        "A = np.array([[1,2,-1] , [4,6,-2], [-1,3,3]])\n",
        "\n",
        "print(A)\n",
        "\n",
        "round(np.linalg.det(A))"
      ],
      "metadata": {
        "colab": {
          "base_uri": "https://localhost:8080/"
        },
        "id": "lqCoDLYO6Zw5",
        "outputId": "cbd42b4a-eed2-4229-a9ba-f13c6713588a"
      },
      "execution_count": 6,
      "outputs": [
        {
          "output_type": "stream",
          "name": "stdout",
          "text": [
            "[[ 1  2 -1]\n",
            " [ 4  6 -2]\n",
            " [-1  3  3]]\n"
          ]
        },
        {
          "output_type": "execute_result",
          "data": {
            "text/plain": [
              "-14"
            ]
          },
          "metadata": {},
          "execution_count": 6
        }
      ]
    }
  ]
}