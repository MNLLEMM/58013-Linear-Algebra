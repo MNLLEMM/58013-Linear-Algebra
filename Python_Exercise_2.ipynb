{
  "nbformat": 4,
  "nbformat_minor": 0,
  "metadata": {
    "colab": {
      "provenance": []
    },
    "kernelspec": {
      "name": "python3",
      "display_name": "Python 3"
    },
    "language_info": {
      "name": "python"
    }
  },
  "cells": [
    {
      "cell_type": "code",
      "execution_count": 1,
      "metadata": {
        "colab": {
          "base_uri": "https://localhost:8080/"
        },
        "id": "7d7n3JzRjx7N",
        "outputId": "aebc4f07-2196-4b12-b85e-fe0af2cc5c43"
      },
      "outputs": [
        {
          "output_type": "stream",
          "name": "stdout",
          "text": [
            "Vector A is  [4 3]\n",
            "Vector B is  [ 2 -5]\n"
          ]
        }
      ],
      "source": [
        "#Scalars\n",
        "import numpy as np\n",
        "\n",
        "x = np.array(-0.5)\n",
        "x\n",
        "#Vectors\n",
        "\n",
        "A = np.array([4, 3])\n",
        "B = np.array([2, -5])\n",
        "\n",
        "print('Vector A is ', A)\n",
        "print('Vector B is ', B)\n"
      ]
    },
    {
      "cell_type": "code",
      "source": [
        "#\n",
        "ball1 = np.array([1, 2, 3])\n",
        "ball2 = np.array([0, 1, -1])\n",
        "pool = np.array([A, B])\n",
        "pool.shape\n",
        "\n",
        "U = np.array([\n",
        "    [1, 2],\n",
        "    [2, 3]\n",
        "])\n",
        "U.shape\n",
        "\n",
        "A.ndim\n",
        "pool.ndim\n"
      ],
      "metadata": {
        "colab": {
          "base_uri": "https://localhost:8080/"
        },
        "id": "zUToK4fhkRKR",
        "outputId": "052b71fd-6d13-4a1a-e901-6906a2264846"
      },
      "execution_count": 3,
      "outputs": [
        {
          "output_type": "execute_result",
          "data": {
            "text/plain": [
              "2"
            ]
          },
          "metadata": {},
          "execution_count": 3
        }
      ]
    }
  ]
}