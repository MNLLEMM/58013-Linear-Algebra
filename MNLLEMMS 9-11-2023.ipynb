{
  "cells": [
    {
      "cell_type": "markdown",
      "source": [
        "Vector"
      ],
      "metadata": {
        "id": "g-MOV1ABg5aj"
      }
    },
    {
      "cell_type": "code",
      "source": [
        "import numpy as np\n",
        "\n",
        "A = np.array([4,3])\n",
        "B = np.array([2,-5])\n",
        "\n",
        "print('Vector A is ', A)\n",
        "print('Vector B is ', B)"
      ],
      "metadata": {
        "id": "lAPGmaQug9X8",
        "outputId": "67fa9679-3c37-4a95-8912-2eba270c5eb5",
        "colab": {
          "base_uri": "https://localhost:8080/"
        }
      },
      "execution_count": 5,
      "outputs": [
        {
          "output_type": "stream",
          "name": "stdout",
          "text": [
            "Vector A is  [4 3]\n",
            "Vector B is  [ 2 -5]\n"
          ]
        }
      ]
    },
    {
      "cell_type": "markdown",
      "source": [
        "Matrix"
      ],
      "metadata": {
        "id": "Xf-pYJZGic-j"
      }
    },
    {
      "cell_type": "code",
      "source": [
        "import numpy as np\n",
        "\n",
        "###Checking Shapes\n",
        "###Shapes tells us how many rows and columns are there\n",
        "\n",
        "ball1 = np.array([1,2,3])\n",
        "ball2 = np.array([0,1,-1])\n",
        "\n",
        "###ball = pool.npshape\n",
        "\n",
        "print(ball1)\n",
        "print(ball2)\n",
        "\n",
        "ball = np.shape([[ball1] , [ball2]])\n",
        "print(ball)"
      ],
      "metadata": {
        "id": "5o2GzUDZikvb",
        "outputId": "fa207505-2cc5-4cb5-be3f-184626015d9a",
        "colab": {
          "base_uri": "https://localhost:8080/"
        }
      },
      "execution_count": 24,
      "outputs": [
        {
          "output_type": "stream",
          "name": "stdout",
          "text": [
            "[1 2 3]\n",
            "[ 0  1 -1]\n",
            "(2, 1, 3)\n"
          ]
        }
      ]
    },
    {
      "cell_type": "markdown",
      "source": [
        "Vector Operations"
      ],
      "metadata": {
        "id": "TxZS46CCsHZw"
      }
    },
    {
      "cell_type": "code",
      "source": [
        "import numpy as np\n",
        "#Addition\n",
        "\n",
        "A = np.array([4, 3])\n",
        "B = np.array([2, -5])\n",
        "R = np.add(A, B)\n",
        "\n",
        "print(R)"
      ],
      "metadata": {
        "id": "HwWX8crljckr",
        "outputId": "375c032f-e784-4c05-b35c-4c27edebc508",
        "colab": {
          "base_uri": "https://localhost:8080/"
        }
      },
      "execution_count": 34,
      "outputs": [
        {
          "output_type": "stream",
          "name": "stdout",
          "text": [
            "[ 6 -2]\n"
          ]
        }
      ]
    },
    {
      "cell_type": "code",
      "source": [
        "#Subtraction\n",
        "import numpy as np\n",
        "\n",
        "\n",
        "A = np.array([4, 3])\n",
        "B = np.array([2, -5])\n",
        "R = np.subtract(A, B)\n",
        "\n",
        "print(R)"
      ],
      "metadata": {
        "id": "dlENhnsOsbHr",
        "outputId": "f8788a52-5b4e-475b-ade1-3c5658f20e72",
        "colab": {
          "base_uri": "https://localhost:8080/"
        }
      },
      "execution_count": 35,
      "outputs": [
        {
          "output_type": "stream",
          "name": "stdout",
          "text": [
            "[2 8]\n"
          ]
        }
      ]
    },
    {
      "cell_type": "code",
      "source": [
        "#Scalar Product\n",
        "\n",
        "S = np.array([2])\n",
        "V = S*A\n",
        "\n",
        "print(V)"
      ],
      "metadata": {
        "id": "9glG6BMHutnZ",
        "outputId": "c1367e1d-2a05-4992-9f3d-656ca9fce35f",
        "colab": {
          "base_uri": "https://localhost:8080/"
        }
      },
      "execution_count": 37,
      "outputs": [
        {
          "output_type": "stream",
          "name": "stdout",
          "text": [
            "[8 6]\n"
          ]
        }
      ]
    },
    {
      "cell_type": "code",
      "source": [
        "#Dot Product\n",
        "\n",
        "A = np.array([4, 3])\n",
        "B = np.array([[2], [-5]])\n",
        "R = A * B\n",
        "\n",
        "print(R)"
      ],
      "metadata": {
        "id": "a0uDY1UGvJoZ",
        "outputId": "a9301bfd-d436-4cae-ce4e-426e3bfc5eea",
        "colab": {
          "base_uri": "https://localhost:8080/"
        }
      },
      "execution_count": 47,
      "outputs": [
        {
          "output_type": "stream",
          "name": "stdout",
          "text": [
            "[[  8   6]\n",
            " [-20 -15]]\n"
          ]
        }
      ]
    },
    {
      "cell_type": "markdown",
      "source": [
        "Property of Matrix"
      ],
      "metadata": {
        "id": "mzJfS6aCzcN0"
      }
    },
    {
      "cell_type": "code",
      "source": [
        "#Identity Matrix\n",
        "\n",
        "c = np.eye(6,6)\n",
        "\n",
        "print(c)"
      ],
      "metadata": {
        "id": "db79KYISwPnz",
        "outputId": "ba274c18-6326-4b68-961d-9e735eae3c8f",
        "colab": {
          "base_uri": "https://localhost:8080/"
        }
      },
      "execution_count": 57,
      "outputs": [
        {
          "output_type": "stream",
          "name": "stdout",
          "text": [
            "[[1. 0. 0. 0. 0. 0.]\n",
            " [0. 1. 0. 0. 0. 0.]\n",
            " [0. 0. 1. 0. 0. 0.]\n",
            " [0. 0. 0. 1. 0. 0.]\n",
            " [0. 0. 0. 0. 1. 0.]\n",
            " [0. 0. 0. 0. 0. 1.]]\n"
          ]
        }
      ]
    },
    {
      "cell_type": "code",
      "source": [
        "#Zero Matrix\n",
        "\n",
        "d = np.zeros([9,9])\n",
        "\n",
        "print(d)"
      ],
      "metadata": {
        "id": "z4aeH-duzsUM",
        "outputId": "d4f460fa-a14a-4127-96e0-8400325513a7",
        "colab": {
          "base_uri": "https://localhost:8080/"
        }
      },
      "execution_count": 65,
      "outputs": [
        {
          "output_type": "stream",
          "name": "stdout",
          "text": [
            "[[0. 0. 0. 0. 0. 0. 0. 0. 0.]\n",
            " [0. 0. 0. 0. 0. 0. 0. 0. 0.]\n",
            " [0. 0. 0. 0. 0. 0. 0. 0. 0.]\n",
            " [0. 0. 0. 0. 0. 0. 0. 0. 0.]\n",
            " [0. 0. 0. 0. 0. 0. 0. 0. 0.]\n",
            " [0. 0. 0. 0. 0. 0. 0. 0. 0.]\n",
            " [0. 0. 0. 0. 0. 0. 0. 0. 0.]\n",
            " [0. 0. 0. 0. 0. 0. 0. 0. 0.]\n",
            " [0. 0. 0. 0. 0. 0. 0. 0. 0.]]\n"
          ]
        }
      ]
    },
    {
      "cell_type": "code",
      "source": [
        "#Full Matrix\n",
        "\n",
        "e = np.full([3,3], 11)\n",
        "\n",
        "print(e)"
      ],
      "metadata": {
        "id": "eVwGnPhp0PAU",
        "outputId": "91aaf637-3a04-4de5-fd38-00e25136a49b",
        "colab": {
          "base_uri": "https://localhost:8080/"
        }
      },
      "execution_count": 74,
      "outputs": [
        {
          "output_type": "stream",
          "name": "stdout",
          "text": [
            "[[11 11 11]\n",
            " [11 11 11]\n",
            " [11 11 11]]\n"
          ]
        }
      ]
    },
    {
      "cell_type": "code",
      "source": [
        "#Transpose Matrix\n",
        "\n",
        "f = np.transpose(e)\n",
        "\n",
        "print(f)"
      ],
      "metadata": {
        "id": "lTKJnuAi0rYV",
        "outputId": "d498409a-aa70-478b-f8a3-52d44ef634d4",
        "colab": {
          "base_uri": "https://localhost:8080/"
        }
      },
      "execution_count": 75,
      "outputs": [
        {
          "output_type": "stream",
          "name": "stdout",
          "text": [
            "[[11 11 11]\n",
            " [11 11 11]\n",
            " [11 11 11]]\n"
          ]
        }
      ]
    }
  ],
  "metadata": {
    "colab": {
      "name": "Welcome To Colaboratory",
      "provenance": []
    },
    "kernelspec": {
      "display_name": "Python 3",
      "name": "python3"
    }
  },
  "nbformat": 4,
  "nbformat_minor": 0
}